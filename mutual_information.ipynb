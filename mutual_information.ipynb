{
  "nbformat": 4,
  "nbformat_minor": 0,
  "metadata": {
    "colab": {
      "name": "mutual_information.ipynb",
      "provenance": [],
      "collapsed_sections": [],
      "include_colab_link": true
    },
    "kernelspec": {
      "name": "python3",
      "display_name": "Python 3"
    }
  },
  "cells": [
    {
      "cell_type": "markdown",
      "metadata": {
        "id": "view-in-github",
        "colab_type": "text"
      },
      "source": [
        "<a href=\"https://colab.research.google.com/github/seanie12/MINE/blob/master/mutual_information.ipynb\" target=\"_parent\"><img src=\"https://colab.research.google.com/assets/colab-badge.svg\" alt=\"Open In Colab\"/></a>"
      ]
    },
    {
      "cell_type": "code",
      "metadata": {
        "id": "fV31JQzF-6qU",
        "colab_type": "code",
        "colab": {}
      },
      "source": [
        "import numpy as np\n",
        "import torch\n",
        "import torch.nn as nn \n",
        "import torch.nn.functional as F\n",
        "import torch.optim as optim\n",
        "from tqdm import tqdm"
      ],
      "execution_count": 0,
      "outputs": []
    },
    {
      "cell_type": "code",
      "metadata": {
        "id": "dTGIpcmL_Dao",
        "colab_type": "code",
        "colab": {}
      },
      "source": [
        "import matplotlib.pyplot as plt\n",
        "from sklearn.feature_selection import mutual_info_regression"
      ],
      "execution_count": 0,
      "outputs": []
    },
    {
      "cell_type": "code",
      "metadata": {
        "id": "5rAwHA1w_Vx2",
        "colab_type": "code",
        "colab": {}
      },
      "source": [
        "# data\n",
        "def gen_x(num_samples):\n",
        "    return np.sign(np.random.normal(0.,1.,[num_samples,1]))\n",
        "\n",
        "def gen_y(x, var):\n",
        "    return x + np.random.normal(0.,np.sqrt(var),[x.shape[0],1])"
      ],
      "execution_count": 0,
      "outputs": []
    },
    {
      "cell_type": "code",
      "metadata": {
        "id": "JPw0y5b-Ddsl",
        "colab_type": "code",
        "colab": {
          "base_uri": "https://localhost:8080/",
          "height": 35
        },
        "outputId": "17029f2f-1e26-4243-96d2-c0ef9a567634"
      },
      "source": [
        "var = 0.2\n",
        "num_samples = 1000000\n",
        "x=gen_x(num_samples)\n",
        "y=gen_y(x, var)\n",
        "p_y_x=np.exp(-(y-x)**2/(2*var))\n",
        "p_y_x_minus=np.exp(-(y+1)**2/(2*var))\n",
        "p_y_x_plus=np.exp(-(y-1)**2/(2*var))\n",
        "mi=np.average(np.log(p_y_x/(0.5*p_y_x_minus+0.5*p_y_x_plus)))\n",
        "mi"
      ],
      "execution_count": 4,
      "outputs": [
        {
          "output_type": "execute_result",
          "data": {
            "text/plain": [
              "0.658902886114133"
            ]
          },
          "metadata": {
            "tags": []
          },
          "execution_count": 4
        }
      ]
    },
    {
      "cell_type": "code",
      "metadata": {
        "id": "djGrEOOdC9So",
        "colab_type": "code",
        "colab": {
          "base_uri": "https://localhost:8080/",
          "height": 316
        },
        "outputId": "c59482e2-55c4-46e5-e262-f1269f74c38b"
      },
      "source": [
        "hidden_size=10\n",
        "n_epoch = 500\n",
        "data_size = 20000\n",
        "\n",
        "class MINE(nn.Module):\n",
        "    def __init__(self, hidden_size=10):\n",
        "        super(MINE, self).__init__()\n",
        "        self.layers= nn.Sequential(nn.Linear(2, hidden_size),\n",
        "                                   nn.ReLU(),\n",
        "                                   nn.Linear(hidden_size,1))\n",
        "\n",
        "    def forward(self, x, y):\n",
        "        batch_size = x.size(0)\n",
        "        tiled_x = torch.cat([x, x,], dim=0)\n",
        "        idx = torch.randperm(batch_size)\n",
        "        \n",
        "        shuffled_y = y[idx]\n",
        "        concat_y = torch.cat([y, shuffled_y], dim=0)\n",
        "        \n",
        "        inputs = torch.cat([tiled_x, concat_y], dim=1)\n",
        "        logits = self.layers(inputs)\n",
        "\n",
        "        pred_xy = logits[:batch_size]\n",
        "        pred_x_y = logits[batch_size:]\n",
        "        loss = -(torch.mean(pred_xy) \n",
        "               - torch.log(torch.mean(torch.exp(pred_x_y))))\n",
        "\n",
        "        return loss\n",
        "\n",
        "model = MINE(hidden_size)\n",
        "optimizer = torch.optim.Adam(model.parameters(), lr=0.01)\n",
        "plot_loss = []\n",
        "all_mi = []\n",
        "for epoch in tqdm(range(n_epoch)):\n",
        "    x_sample=gen_x(data_size)\n",
        "    y_sample=gen_y(x_sample, var)\n",
        "    \n",
        "    x_sample = torch.from_numpy(x_sample).float()\n",
        "    y_sample = torch.from_numpy(y_sample).float()\n",
        "    loss = model(x_sample, y_sample)\n",
        "    \n",
        "    model.zero_grad()\n",
        "    loss.backward()\n",
        "    optimizer.step()\n",
        "   \n",
        "    all_mi.append(-loss.item())\n",
        "\n",
        "\n",
        "fig, ax = plt.subplots()\n",
        "ax.plot(range(len(all_mi)), all_mi, label='MINE estimate')\n",
        "ax.plot([0, len(all_mi)], [mi,mi], label='True Mutual Information')\n",
        "ax.set_xlabel('training steps')\n",
        "ax.legend(loc='best')\n"
      ],
      "execution_count": 5,
      "outputs": [
        {
          "output_type": "stream",
          "text": [
            "100%|██████████| 500/500 [00:05<00:00, 94.65it/s]\n"
          ],
          "name": "stderr"
        },
        {
          "output_type": "execute_result",
          "data": {
            "text/plain": [
              "<matplotlib.legend.Legend at 0x7f0acc00b630>"
            ]
          },
          "metadata": {
            "tags": []
          },
          "execution_count": 5
        },
        {
          "output_type": "display_data",
          "data": {
            "image/png": "[encoded data removed]",
            "text/plain": [
              "<Figure size 432x288 with 1 Axes>"
            ]
          },
          "metadata": {
            "tags": []
          }
        }
      ]
    }
  ]
}